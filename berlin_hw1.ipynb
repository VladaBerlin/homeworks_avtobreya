{
  "cells": [
    {
      "cell_type": "markdown",
      "id": "ecee4121",
      "metadata": {
        "id": "ecee4121"
      },
      "source": [
        "# Берлин Влада БКЛ202\n",
        "# Домашнее задание 1"
      ]
    },
    {
      "cell_type": "markdown",
      "id": "5a87cbd4",
      "metadata": {
        "id": "5a87cbd4"
      },
      "source": [
        "1. Ручной сбор в МАС"
      ]
    },
    {
      "cell_type": "markdown",
      "source": [
        "Язык, машина, звезда, лист, земля"
      ],
      "metadata": {
        "id": "4xJNXV1kICM6"
      },
      "id": "4xJNXV1kICM6"
    },
    {
      "cell_type": "code",
      "execution_count": 87,
      "id": "dbc97a31",
      "metadata": {
        "id": "dbc97a31"
      },
      "outputs": [],
      "source": [
        "words_meanings = [['Орган в полости рта в виде мышечного выроста у позвоночных животных и человека, способствующий пережевыванию и глотанию пищи, определяющий ее вкусовые свойства.', 'Тот орган человека, участвующий в образовании звуков речи и тем самым в словесном воспроизведении мыслей; орган речи.', 'Система словесного выражения мыслей, обладающая определенным звуковым и грамматическим строем и служащая средством общения людей.', 'Разновидность речи, обладающая теми или иными характерными признаками; стиль, слог.', 'Средство бессловесного общения.', 'Народ, народность.', 'Пленный, от которого можно узнать нужные сведения.', 'Металлический стержень в колоколе или колокольчике, который, ударяясь о стенку, производит звон.'], ['Механизм или совокупность механизмов, совершающие какую-либо полезную работу путем преобразования одного вида энергии в другой.', 'Автомобиль, автомашина.', 'Общее название различных самодвижущихся механизмов, выполняющих транспортную, тягловую, уборочную работу.', 'Поезд (железнодорожный).'], ['Небесное тело, состоящее из раскаленных газов (плазмы), по своей природе сходное с Солнцем и представляющееся взору человека на ночном небе светящейся точкой.', 'О человеке, прославившемся в какой-либо сфере деятельности; о знаменитости.', 'Геометрическая фигура с остроконечными выступами, равномерно расположенными по окружности; фигура с лучами, исходящими от центра.'], ['Тонкая зеленая пластинка различной формы на черенке (орган воздушного питания и газообмена у растения).', 'Тонкий, плотный кусок или пласт какого-либо материала.', 'Единица измерения, применяемая в издательском и полиграфическом деле, разного характера в зависимости от того, что измеряется.', 'Документ, удостоверяющий что-либо или содержащий какое-либо предписание.'], ['Третья от Солнца, обитаемая нами планета.', 'Суша, земная твердь (в отличие от водного или воздушного пространства).', 'Верхний, поверхностный слой коры нашей планеты, а также ее более глубокие слои; почва, грунт.', 'Рыхлое темно-бурое вещество, входящее в состав коры нашей планеты.', 'Территория, находящаяся в чьем-либо владении, пользовании; обрабатываемая, используемая в сельскохозяйственных целях почва.', 'Страна, государство.', 'Поле, фон (ткани, обоев), по которому сделан рисунок.']]"
      ]
    },
    {
      "cell_type": "markdown",
      "source": [
        "2."
      ],
      "metadata": {
        "id": "44_IcwkIX66g"
      },
      "id": "44_IcwkIX66g"
    },
    {
      "cell_type": "code",
      "source": [
        "!wget https://github.com/UniversalDependencies/UD_Russian-GSD/raw/master/ru_gsd-ud-train.conllu"
      ],
      "metadata": {
        "colab": {
          "base_uri": "https://localhost:8080/"
        },
        "id": "JUxwdBUw7Pz8",
        "outputId": "d786f0db-e9f6-4030-c7e1-8071f63f73f0"
      },
      "id": "JUxwdBUw7Pz8",
      "execution_count": 2,
      "outputs": [
        {
          "output_type": "stream",
          "name": "stdout",
          "text": [
            "--2023-12-07 10:16:09--  https://github.com/UniversalDependencies/UD_Russian-GSD/raw/master/ru_gsd-ud-train.conllu\n",
            "Resolving github.com (github.com)... 140.82.114.3\n",
            "Connecting to github.com (github.com)|140.82.114.3|:443... connected.\n",
            "HTTP request sent, awaiting response... 302 Found\n",
            "Location: https://raw.githubusercontent.com/UniversalDependencies/UD_Russian-GSD/master/ru_gsd-ud-train.conllu [following]\n",
            "--2023-12-07 10:16:09--  https://raw.githubusercontent.com/UniversalDependencies/UD_Russian-GSD/master/ru_gsd-ud-train.conllu\n",
            "Resolving raw.githubusercontent.com (raw.githubusercontent.com)... 185.199.108.133, 185.199.109.133, 185.199.110.133, ...\n",
            "Connecting to raw.githubusercontent.com (raw.githubusercontent.com)|185.199.108.133|:443... connected.\n",
            "HTTP request sent, awaiting response... 200 OK\n",
            "Length: 6750960 (6.4M) [text/plain]\n",
            "Saving to: ‘ru_gsd-ud-train.conllu.1’\n",
            "\n",
            "ru_gsd-ud-train.con 100%[===================>]   6.44M  --.-KB/s    in 0.07s   \n",
            "\n",
            "2023-12-07 10:16:10 (96.3 MB/s) - ‘ru_gsd-ud-train.conllu.1’ saved [6750960/6750960]\n",
            "\n"
          ]
        }
      ]
    },
    {
      "cell_type": "code",
      "source": [
        "!pip install conllu"
      ],
      "metadata": {
        "colab": {
          "base_uri": "https://localhost:8080/"
        },
        "id": "InD_OXJvymaV",
        "outputId": "47425b07-609a-478b-befe-d4c414e0d0b1"
      },
      "id": "InD_OXJvymaV",
      "execution_count": 3,
      "outputs": [
        {
          "output_type": "stream",
          "name": "stdout",
          "text": [
            "Requirement already satisfied: conllu in /usr/local/lib/python3.10/dist-packages (4.5.3)\n"
          ]
        }
      ]
    },
    {
      "cell_type": "code",
      "source": [
        "import conllu\n",
        "from conllu import parse_incr\n",
        "file = open('ru_gsd-ud-train.conllu', encoding='utf-8')\n",
        "\n",
        "contexts = []\n",
        "\n",
        "for sent in parse_incr(file):\n",
        "    for t in sent:\n",
        "      if t['lemma'] in ['язык', 'машина', 'звезда', 'лист', 'земля']:\n",
        "        contexts.append(sent.metadata['text'])"
      ],
      "metadata": {
        "id": "V9J9m2Z9BWxp"
      },
      "id": "V9J9m2Z9BWxp",
      "execution_count": 4,
      "outputs": []
    },
    {
      "cell_type": "code",
      "source": [
        "contexts[:2]"
      ],
      "metadata": {
        "colab": {
          "base_uri": "https://localhost:8080/"
        },
        "id": "VgGkGKEGDdmk",
        "outputId": "bedb184b-21e9-440c-b556-5cd764f571f3"
      },
      "id": "VgGkGKEGDdmk",
      "execution_count": 5,
      "outputs": [
        {
          "output_type": "execute_result",
          "data": {
            "text/plain": [
              "['Кайва (Caingua, Caiua, Caiwa, Cayua, Kaiova, Kaiowá, Kaiwá, Kayova) -- язык гуарани, на котором говорит народ кайва (гуарани-кайува) в провинции Мату-Гросу-ду-Сул около рек Апа, Дурадос, Ивиньема на севере и в горах Мбаракажу и притоках реки Жежуй на юге.',\n",
              " 'Нас объединяет язык, традиции, радости и несчастья, через которые прошли румыны за последние века&#39;&#39;, -- заявил румынский президент В то же время, бывший президент Молдавии Владимир Воронин ((2001 -- 2009)) заявлял о своём категорическом несогласии с этим и подчеркивал, что, по переписи 2004, ``94 % коренного населения Молдавии считают себя молдаванами, а не румынами&#39;&#39;.']"
            ]
          },
          "metadata": {},
          "execution_count": 5
        }
      ]
    },
    {
      "cell_type": "code",
      "source": [
        "len(contexts)"
      ],
      "metadata": {
        "colab": {
          "base_uri": "https://localhost:8080/"
        },
        "id": "Rgx_JjxrFRso",
        "outputId": "9d65e86a-6416-4e83-9742-7870dd233600"
      },
      "id": "Rgx_JjxrFRso",
      "execution_count": 6,
      "outputs": [
        {
          "output_type": "execute_result",
          "data": {
            "text/plain": [
              "127"
            ]
          },
          "metadata": {},
          "execution_count": 6
        }
      ]
    },
    {
      "cell_type": "markdown",
      "source": [
        "3.1. Adagram"
      ],
      "metadata": {
        "id": "qtpS9Yj6FQ8j"
      },
      "id": "qtpS9Yj6FQ8j"
    },
    {
      "cell_type": "code",
      "source": [
        "!curl \"https://s3.amazonaws.com/kostia.lopuhin/all.a010.p10.d300.w5.m100.nonorm.slim.joblib\" > all.a010.p10.d300.w5.m100.nonorm.slim.joblib"
      ],
      "metadata": {
        "colab": {
          "base_uri": "https://localhost:8080/"
        },
        "id": "wx78ZvV99JnD",
        "outputId": "38a9416d-48f3-41a3-80b3-55102b164f72"
      },
      "id": "wx78ZvV99JnD",
      "execution_count": 7,
      "outputs": [
        {
          "output_type": "stream",
          "name": "stdout",
          "text": [
            "  % Total    % Received % Xferd  Average Speed   Time    Time     Time  Current\n",
            "                                 Dload  Upload   Total   Spent    Left  Speed\n",
            "100 1394M  100 1394M    0     0  45.8M      0  0:00:30  0:00:30 --:--:-- 43.7M\n"
          ]
        }
      ]
    },
    {
      "cell_type": "code",
      "source": [
        "!pip install Cython numpy\n",
        "!pip install git+https://github.com/lopuhin/python-adagram.git"
      ],
      "metadata": {
        "colab": {
          "base_uri": "https://localhost:8080/"
        },
        "id": "DgtLBxMU-DHw",
        "outputId": "214a33f9-5ed8-4c6e-b140-31e117be7304"
      },
      "id": "DgtLBxMU-DHw",
      "execution_count": 8,
      "outputs": [
        {
          "output_type": "stream",
          "name": "stdout",
          "text": [
            "Requirement already satisfied: Cython in /usr/local/lib/python3.10/dist-packages (3.0.6)\n",
            "Requirement already satisfied: numpy in /usr/local/lib/python3.10/dist-packages (1.23.5)\n",
            "Collecting git+https://github.com/lopuhin/python-adagram.git\n",
            "  Cloning https://github.com/lopuhin/python-adagram.git to /tmp/pip-req-build-s1sbhxsj\n",
            "  Running command git clone --filter=blob:none --quiet https://github.com/lopuhin/python-adagram.git /tmp/pip-req-build-s1sbhxsj\n",
            "  Resolved https://github.com/lopuhin/python-adagram.git to commit cf3639f10d6a1efbcb602f45a1da89ef55ce5794\n",
            "  Preparing metadata (setup.py) ... \u001b[?25l\u001b[?25hdone\n",
            "Requirement already satisfied: cython in /usr/local/lib/python3.10/dist-packages (from adagram==0.0.1) (3.0.6)\n",
            "Requirement already satisfied: joblib in /usr/local/lib/python3.10/dist-packages (from adagram==0.0.1) (1.3.2)\n",
            "Requirement already satisfied: numpy>=1.9 in /usr/local/lib/python3.10/dist-packages (from adagram==0.0.1) (1.23.5)\n",
            "Requirement already satisfied: six in /usr/local/lib/python3.10/dist-packages (from adagram==0.0.1) (1.16.0)\n"
          ]
        }
      ]
    },
    {
      "cell_type": "code",
      "source": [
        "import adagram\n",
        "vm = adagram.VectorModel.load('all.a010.p10.d300.w5.m100.nonorm.slim.joblib')"
      ],
      "metadata": {
        "id": "DTEhfy4A97tM"
      },
      "id": "DTEhfy4A97tM",
      "execution_count": 9,
      "outputs": []
    },
    {
      "cell_type": "code",
      "source": [
        "!pip install pymorphy2"
      ],
      "metadata": {
        "colab": {
          "base_uri": "https://localhost:8080/"
        },
        "id": "nuEkUsnBL6Yw",
        "outputId": "e999a36e-cd9c-4e60-ab0f-454653b49636"
      },
      "id": "nuEkUsnBL6Yw",
      "execution_count": 10,
      "outputs": [
        {
          "output_type": "stream",
          "name": "stdout",
          "text": [
            "Requirement already satisfied: pymorphy2 in /usr/local/lib/python3.10/dist-packages (0.9.1)\n",
            "Requirement already satisfied: dawg-python>=0.7.1 in /usr/local/lib/python3.10/dist-packages (from pymorphy2) (0.7.2)\n",
            "Requirement already satisfied: pymorphy2-dicts-ru<3.0,>=2.4 in /usr/local/lib/python3.10/dist-packages (from pymorphy2) (2.4.417127.4579844)\n",
            "Requirement already satisfied: docopt>=0.6 in /usr/local/lib/python3.10/dist-packages (from pymorphy2) (0.6.2)\n"
          ]
        }
      ]
    },
    {
      "cell_type": "code",
      "source": [
        "from pymorphy2 import MorphAnalyzer\n",
        "import nltk\n",
        "nltk.download('punkt')\n",
        "from nltk import word_tokenize\n",
        "morph = MorphAnalyzer()\n",
        "\n",
        "def normalize(text):  # Функция для лемматизации контекста\n",
        "    words = [morph.parse(word)[0].normal_form for word in word_tokenize(text) if word]\n",
        "    return words"
      ],
      "metadata": {
        "colab": {
          "base_uri": "https://localhost:8080/"
        },
        "id": "FfNj_bHnI-US",
        "outputId": "c87da2c4-8076-418e-ee67-2874e0245554"
      },
      "id": "FfNj_bHnI-US",
      "execution_count": 11,
      "outputs": [
        {
          "output_type": "stream",
          "name": "stderr",
          "text": [
            "[nltk_data] Downloading package punkt to /root/nltk_data...\n",
            "[nltk_data]   Package punkt is already up-to-date!\n"
          ]
        }
      ]
    },
    {
      "cell_type": "code",
      "source": [
        "import numpy as np"
      ],
      "metadata": {
        "id": "L7ailCbNKZny"
      },
      "id": "L7ailCbNKZny",
      "execution_count": 12,
      "outputs": []
    },
    {
      "cell_type": "code",
      "source": [
        "meanings_ada = {'язык': {}, 'машина': {}, 'звезда': {}, 'лист': {}, 'земля': {}}\n",
        "words = ['язык', 'машина', 'звезда', 'лист', 'земля']\n",
        "for word in words:\n",
        "  for sent in contexts:\n",
        "    if word in normalize(sent):\n",
        "      if meanings_ada[word].get(np.argmax(vm.disambiguate(word, normalize(sent)))):\n",
        "        meanings_ada[word][np.argmax(vm.disambiguate(word, normalize(sent)))].append(sent)\n",
        "      else:\n",
        "        meanings_ada[word][np.argmax(vm.disambiguate(word, normalize(sent)))] = [sent]"
      ],
      "metadata": {
        "colab": {
          "base_uri": "https://localhost:8080/"
        },
        "id": "DQj7coewGxzV",
        "outputId": "17f89805-571b-42f3-a35e-6e0be2218070"
      },
      "id": "DQj7coewGxzV",
      "execution_count": 20,
      "outputs": [
        {
          "output_type": "stream",
          "name": "stderr",
          "text": [
            "/usr/local/lib/python3.10/dist-packages/adagram/model.py:171: RuntimeWarning: divide by zero encountered in log\n",
            "  z = np.log(z)\n"
          ]
        }
      ]
    },
    {
      "cell_type": "code",
      "source": [
        "for k in meanings_ada.keys():\n",
        "  print(k, ':' ,meanings_ada[k].keys())"
      ],
      "metadata": {
        "colab": {
          "base_uri": "https://localhost:8080/"
        },
        "id": "m7rKhV84M72t",
        "outputId": "ec7fcf2c-be57-4a52-ac70-b93a489ea56c"
      },
      "id": "m7rKhV84M72t",
      "execution_count": 21,
      "outputs": [
        {
          "output_type": "stream",
          "name": "stdout",
          "text": [
            "язык : dict_keys([1, 0, 2])\n",
            "машина : dict_keys([0, 3])\n",
            "звезда : dict_keys([3, 2, 0, 1])\n",
            "лист : dict_keys([2, 3, 1])\n",
            "земля : dict_keys([3, 0, 2, 1, 4])\n"
          ]
        }
      ]
    },
    {
      "cell_type": "markdown",
      "source": [
        "3.2. Эмбеддинги"
      ],
      "metadata": {
        "id": "3I4pU9MdPJPM"
      },
      "id": "3I4pU9MdPJPM"
    },
    {
      "cell_type": "code",
      "source": [
        "!pip install simple-elmo"
      ],
      "metadata": {
        "colab": {
          "base_uri": "https://localhost:8080/"
        },
        "id": "fkmSX7mfPQEn",
        "outputId": "f6d4e11e-1cd2-40bc-cc95-db111070fee6"
      },
      "id": "fkmSX7mfPQEn",
      "execution_count": 15,
      "outputs": [
        {
          "output_type": "stream",
          "name": "stdout",
          "text": [
            "Requirement already satisfied: simple-elmo in /usr/local/lib/python3.10/dist-packages (0.9.2)\n",
            "Requirement already satisfied: h5py in /usr/local/lib/python3.10/dist-packages (from simple-elmo) (3.9.0)\n",
            "Requirement already satisfied: numpy in /usr/local/lib/python3.10/dist-packages (from simple-elmo) (1.23.5)\n",
            "Requirement already satisfied: smart-open>1.8.1 in /usr/local/lib/python3.10/dist-packages (from simple-elmo) (6.4.0)\n",
            "Requirement already satisfied: pandas in /usr/local/lib/python3.10/dist-packages (from simple-elmo) (1.5.3)\n",
            "Requirement already satisfied: scipy in /usr/local/lib/python3.10/dist-packages (from simple-elmo) (1.11.4)\n",
            "Requirement already satisfied: python-dateutil>=2.8.1 in /usr/local/lib/python3.10/dist-packages (from pandas->simple-elmo) (2.8.2)\n",
            "Requirement already satisfied: pytz>=2020.1 in /usr/local/lib/python3.10/dist-packages (from pandas->simple-elmo) (2023.3.post1)\n",
            "Requirement already satisfied: six>=1.5 in /usr/local/lib/python3.10/dist-packages (from python-dateutil>=2.8.1->pandas->simple-elmo) (1.16.0)\n"
          ]
        }
      ]
    },
    {
      "cell_type": "code",
      "source": [
        "!wget 'http://vectors.nlpl.eu/repository/20/196.zip'"
      ],
      "metadata": {
        "colab": {
          "base_uri": "https://localhost:8080/"
        },
        "id": "F66tp9BAR8jp",
        "outputId": "766b19bc-833c-4c11-d4ff-4baa19456aa6"
      },
      "id": "F66tp9BAR8jp",
      "execution_count": 16,
      "outputs": [
        {
          "output_type": "stream",
          "name": "stdout",
          "text": [
            "--2023-12-07 10:17:35--  http://vectors.nlpl.eu/repository/20/196.zip\n",
            "Resolving vectors.nlpl.eu (vectors.nlpl.eu)... 129.240.189.181\n",
            "Connecting to vectors.nlpl.eu (vectors.nlpl.eu)|129.240.189.181|:80... connected.\n",
            "HTTP request sent, awaiting response... 200 OK\n",
            "Length: 206986351 (197M) [application/zip]\n",
            "Saving to: ‘196.zip.1’\n",
            "\n",
            "196.zip.1           100%[===================>] 197.40M  17.9MB/s    in 12s     \n",
            "\n",
            "2023-12-07 10:17:48 (16.2 MB/s) - ‘196.zip.1’ saved [206986351/206986351]\n",
            "\n"
          ]
        }
      ]
    },
    {
      "cell_type": "code",
      "source": [
        "from simple_elmo import ElmoModel\n",
        "model = ElmoModel()\n",
        "model.load('196.zip')"
      ],
      "metadata": {
        "colab": {
          "base_uri": "https://localhost:8080/",
          "height": 90
        },
        "id": "KFr__1yTPk8F",
        "outputId": "ac130382-4771-4bae-ab6c-bf8a348409da"
      },
      "id": "KFr__1yTPk8F",
      "execution_count": 17,
      "outputs": [
        {
          "output_type": "stream",
          "name": "stderr",
          "text": [
            "/usr/local/lib/python3.10/dist-packages/simple_elmo/model.py:531: UserWarning: `tf.nn.rnn_cell.LSTMCell` is deprecated and will be removed in a future version. This class is equivalent as `tf.keras.layers.LSTMCell`, and will be replaced by that in Tensorflow 2.0.\n",
            "  lstm_cell = tf.compat.v1.nn.rnn_cell.LSTMCell(\n"
          ]
        },
        {
          "output_type": "execute_result",
          "data": {
            "text/plain": [
              "'The model is now loaded.'"
            ],
            "application/vnd.google.colaboratory.intrinsic+json": {
              "type": "string"
            }
          },
          "metadata": {},
          "execution_count": 17
        }
      ]
    },
    {
      "cell_type": "code",
      "source": [
        "# Распределяем контексты по словам, чтобы было проще работать с эмбеддингами\n",
        "sentences = {'язык': [], 'машина': [], 'звезда': [], 'лист': [], 'земля': []}\n",
        "\n",
        "for sent in contexts:\n",
        "  for k in sentences.keys():\n",
        "    if k in normalize(sent):\n",
        "      sentences[k].append(sent)"
      ],
      "metadata": {
        "id": "KhFrBAnE3btq"
      },
      "id": "KhFrBAnE3btq",
      "execution_count": 24,
      "outputs": []
    },
    {
      "cell_type": "code",
      "source": [
        "def get_elmo_vectors(word, contexts, model):\n",
        "    tokens = [normalize(c) for c in contexts]\n",
        "    all_vectors = model.get_elmo_vectors(tokens)\n",
        "    word_vecs = []\n",
        "    for i in range(len(contexts)):\n",
        "        try:\n",
        "            word_vecs.append(all_vectors[i][tokens[i].index(word)])\n",
        "        except ValueError:\n",
        "            continue\n",
        "    return word_vecs"
      ],
      "metadata": {
        "id": "p3OfZM122izM"
      },
      "id": "p3OfZM122izM",
      "execution_count": 26,
      "outputs": []
    },
    {
      "cell_type": "code",
      "source": [
        "from sklearn.cluster import AffinityPropagation\n",
        "words_labels = {'язык': [], 'машина': [], 'звезда': [], 'лист': [], 'земля': []}\n",
        "for word in words:\n",
        "  X = get_elmo_vectors(word, sentences[word], model)\n",
        "  cluster = AffinityPropagation(damping=0.9)\n",
        "  cluster.fit(X)\n",
        "  labels = np.array(cluster.labels_) + 1\n",
        "  words_labels[word] = labels"
      ],
      "metadata": {
        "id": "jiafJGTf5Skn"
      },
      "id": "jiafJGTf5Skn",
      "execution_count": 33,
      "outputs": []
    },
    {
      "cell_type": "code",
      "source": [
        "words_labels"
      ],
      "metadata": {
        "colab": {
          "base_uri": "https://localhost:8080/"
        },
        "id": "Cf1goLaQ8SON",
        "outputId": "36c81420-058c-4697-fd26-96793dd5e103"
      },
      "id": "Cf1goLaQ8SON",
      "execution_count": 34,
      "outputs": [
        {
          "output_type": "execute_result",
          "data": {
            "text/plain": [
              "{'язык': array([ 1, 11,  2,  3,  4, 11,  6,  6,  5,  6,  7,  8,  8,  6,  6,  8,  4,\n",
              "         1, 10, 10,  8,  9,  9,  6,  8,  4,  8,  8,  8,  3,  8, 10,  8,  8,\n",
              "        11,  8,  8, 10, 11, 11,  8,  8]),\n",
              " 'машина': array([2, 5, 2, 2, 1, 1, 5, 2, 2, 3, 4, 5, 2, 2]),\n",
              " 'звезда': array([1, 1, 1, 1, 1, 1, 1, 1, 1, 1, 1, 1, 1, 1, 1, 1, 1, 1, 1, 1]),\n",
              " 'лист': array([5, 3, 2, 1, 2, 3, 4, 5]),\n",
              " 'земля': array([ 1, 12,  2,  6, 12,  6,  4,  3, 12, 12,  6,  4,  5,  6, 12, 12,  6,\n",
              "        12,  7, 11,  6, 12,  8,  9, 12,  6,  6, 12, 12, 10, 11, 12,  6,  6,\n",
              "         6, 12, 12,  6,  6,  6,  6, 12, 12])}"
            ]
          },
          "metadata": {},
          "execution_count": 34
        }
      ]
    },
    {
      "cell_type": "markdown",
      "source": [
        "4.1. Adagram"
      ],
      "metadata": {
        "id": "ayjaXcSwGIwX"
      },
      "id": "ayjaXcSwGIwX"
    },
    {
      "cell_type": "code",
      "source": [
        "meanings_m = {'язык': {}, 'машина': {}, 'звезда': {}, 'лист': {}, 'земля': {}}\n",
        "for i in range(len(words)):\n",
        "  for sent in words_meanings[i]:\n",
        "    if meanings_m[words[i]].get(np.argmax(vm.disambiguate(words[i], normalize(sent)))):\n",
        "      meanings_m[words[i]][np.argmax(vm.disambiguate(words[i], normalize(sent)))].append(sent)\n",
        "    else:\n",
        "      meanings_m[words[i]][np.argmax(vm.disambiguate(words[i], normalize(sent)))] = [sent]"
      ],
      "metadata": {
        "colab": {
          "base_uri": "https://localhost:8080/"
        },
        "id": "elSgh5IqGKe9",
        "outputId": "b499c65d-34f1-40df-d9ca-17853437cb1d"
      },
      "id": "elSgh5IqGKe9",
      "execution_count": 88,
      "outputs": [
        {
          "output_type": "stream",
          "name": "stderr",
          "text": [
            "/usr/local/lib/python3.10/dist-packages/adagram/model.py:171: RuntimeWarning: divide by zero encountered in log\n",
            "  z = np.log(z)\n"
          ]
        }
      ]
    },
    {
      "cell_type": "code",
      "source": [
        "for k in meanings_m.keys():\n",
        "  print(k, ':' ,meanings_m[k].keys())"
      ],
      "metadata": {
        "colab": {
          "base_uri": "https://localhost:8080/"
        },
        "id": "ka4edEVsQntQ",
        "outputId": "e6414cfa-731c-4e99-dd8f-50d70f3fe888"
      },
      "id": "ka4edEVsQntQ",
      "execution_count": 89,
      "outputs": [
        {
          "output_type": "stream",
          "name": "stdout",
          "text": [
            "язык : dict_keys([2, 0, 1])\n",
            "машина : dict_keys([0])\n",
            "звезда : dict_keys([0, 2])\n",
            "лист : dict_keys([3, 2, 5])\n",
            "земля : dict_keys([2, 3, 0])\n"
          ]
        }
      ]
    },
    {
      "cell_type": "markdown",
      "source": [
        "4.2 Elmo"
      ],
      "metadata": {
        "id": "P7Di-OYeUn8L"
      },
      "id": "P7Di-OYeUn8L"
    },
    {
      "cell_type": "markdown",
      "source": [
        "Я не понимаю, почему тут не возвращаются векторы, вроде бы код точно такой же"
      ],
      "metadata": {
        "id": "90JO7weYhUQK"
      },
      "id": "90JO7weYhUQK"
    },
    {
      "cell_type": "code",
      "source": [
        "m_labels = {'язык': [], 'машина': [], 'звезда': [], 'лист': [], 'земля': []}\n",
        "for i in range(len(words)):\n",
        "  X = get_elmo_vectors(words[i], words_meanings[i], model)\n",
        "  print(words[i])\n",
        "  print(X)\n",
        "  #cluster = AffinityPropagation(damping=0.9)\n",
        "  #cluster.fit(X)\n",
        "  #labels = np.array(cluster.labels_) + 1\n",
        "  m_labels[word] = labels"
      ],
      "metadata": {
        "colab": {
          "base_uri": "https://localhost:8080/"
        },
        "id": "xED_wm99UuVU",
        "outputId": "7fa9697d-960c-4ff4-abdc-835387a9a266"
      },
      "id": "xED_wm99UuVU",
      "execution_count": 90,
      "outputs": [
        {
          "output_type": "stream",
          "name": "stdout",
          "text": [
            "язык\n",
            "[]\n",
            "машина\n",
            "[]\n",
            "звезда\n",
            "[]\n",
            "лист\n",
            "[]\n",
            "земля\n",
            "[]\n"
          ]
        }
      ]
    },
    {
      "cell_type": "markdown",
      "source": [
        "5.\n",
        "Выберите по 2-3 значения для слова и по 5 контекстов, которые автоматически были отнесены к этим значениям. Разметьте контексты: совпадает ли значение слова в контексте со словарным значением."
      ],
      "metadata": {
        "id": "ZWOHieQMhz6N"
      },
      "id": "ZWOHieQMhz6N"
    },
    {
      "cell_type": "markdown",
      "source": [
        "Язык"
      ],
      "metadata": {
        "id": "hRwo0qd3rf5M"
      },
      "id": "hRwo0qd3rf5M"
    },
    {
      "cell_type": "code",
      "source": [
        "meanings_m['язык'].keys(), meanings_ada['язык'].keys()"
      ],
      "metadata": {
        "colab": {
          "base_uri": "https://localhost:8080/"
        },
        "id": "oDCgwd2yh16F",
        "outputId": "6854249f-a9fe-4d90-c105-b1e8ee5972d2"
      },
      "id": "oDCgwd2yh16F",
      "execution_count": 79,
      "outputs": [
        {
          "output_type": "execute_result",
          "data": {
            "text/plain": [
              "(dict_keys([2, 0, 1]), dict_keys([1, 0, 2]))"
            ]
          },
          "metadata": {},
          "execution_count": 79
        }
      ]
    },
    {
      "cell_type": "code",
      "source": [
        "# значение 0\n",
        "print('Meaning:', meanings_m['язык'][0], '\\nContexts:', meanings_ada['язык'][0][:5])"
      ],
      "metadata": {
        "colab": {
          "base_uri": "https://localhost:8080/"
        },
        "id": "GtROsf90ix5I",
        "outputId": "74b3a1f6-2b57-469e-d7a8-90634b336044"
      },
      "id": "GtROsf90ix5I",
      "execution_count": 80,
      "outputs": [
        {
          "output_type": "stream",
          "name": "stdout",
          "text": [
            "Meaning: ['Тот орган человека, участвующий в образовании звуков речи и тем самым в словесном воспроизведении мыслей; орган речи.', 'Система словесного выражения мыслей, обладающая определенным звуковым и грамматическим строем и служащая средством общения людей.', 'Разновидность речи, обладающая теми или иными характерными признаками; стиль, слог.', 'Средство бессловесного общения.', 'Пленный, от которого можно узнать нужные сведения.'] \n",
            "Contexts: ['В языке хилигайнон имеются показатели трёх падежей: абсолютив, эргатив и косвенный падеж.', 'Образование имперфекта подобно образованию форм настоящего времени в обоих формах лит. языка -- как в Западноармянском, так и в Восточноарм.', 'Язык его поэм -- переходная ступень от старого пракрита к новоиндийскому хинди; несколько остатков древних синтетических форм ещё попадаются здесь, но аналитические формы начинают уже вытеснять их.', 'Язык применяется для построения транзакционных и поведенческих моделей, а также для высокоуровневого синтеза.', 'Как большинство языков описания XML, XML Schema была задумана для определения правил, которым должен подчиняться документ.']\n"
          ]
        }
      ]
    },
    {
      "cell_type": "markdown",
      "source": [
        "Интересно, что язык как орган человека и как система общения объединились в одну категорию.\n",
        "Контексты, которые подобрались, вроде бы подходят тем значениям, которые указаны."
      ],
      "metadata": {
        "id": "ogXyamMCks9c"
      },
      "id": "ogXyamMCks9c"
    },
    {
      "cell_type": "code",
      "source": [
        "# значение 1\n",
        "print('Meaning:', meanings_m['язык'][1], '\\nContexts:', meanings_ada['язык'][1][:5])"
      ],
      "metadata": {
        "colab": {
          "base_uri": "https://localhost:8080/"
        },
        "id": "R4zLoO19jVZk",
        "outputId": "b328ff9b-4a76-413f-f428-dfcdea4b5f9b"
      },
      "id": "R4zLoO19jVZk",
      "execution_count": 81,
      "outputs": [
        {
          "output_type": "stream",
          "name": "stdout",
          "text": [
            "Meaning: ['Народ, народность.'] \n",
            "Contexts: ['Кайва (Caingua, Caiua, Caiwa, Cayua, Kaiova, Kaiowá, Kaiwá, Kayova) -- язык гуарани, на котором говорит народ кайва (гуарани-кайува) в провинции Мату-Гросу-ду-Сул около рек Апа, Дурадос, Ивиньема на севере и в горах Мбаракажу и притоках реки Жежуй на юге.', 'Нас объединяет язык, традиции, радости и несчастья, через которые прошли румыны за последние века&#39;&#39;, -- заявил румынский президент В то же время, бывший президент Молдавии Владимир Воронин ((2001 -- 2009)) заявлял о своём категорическом несогласии с этим и подчеркивал, что, по переписи 2004, ``94 % коренного населения Молдавии считают себя молдаванами, а не румынами&#39;&#39;.', 'В городе работает гимназия с преподаванием на литовском языке, гимназия с преподаванием на польском и русском языках.', 'В городе работает гимназия с преподаванием на литовском языке, гимназия с преподаванием на польском и русском языках.', 'Вяземский доносил, что царевич занимается языками немецким и французским, изучает ``четыре части цифири&#39;&#39;, твердит склонения и падежи, пишет атлас и читает историю.']\n"
          ]
        }
      ]
    },
    {
      "cell_type": "markdown",
      "source": [
        "Это скорее значение 'Система словесного выражения мыслей, обладающая определенным звуковым и грамматическим строем и служащая средством общения людей.'"
      ],
      "metadata": {
        "id": "YWXKqC4Fj_wv"
      },
      "id": "YWXKqC4Fj_wv"
    },
    {
      "cell_type": "code",
      "source": [
        "# значение 2\n",
        "print('Meaning:', meanings_m['язык'][2], '\\nContexts:', meanings_ada['язык'][2][:5])"
      ],
      "metadata": {
        "colab": {
          "base_uri": "https://localhost:8080/"
        },
        "id": "hGAOzi5vjWmk",
        "outputId": "626d203f-6809-42f1-d6c1-051051c8c97d"
      },
      "id": "hGAOzi5vjWmk",
      "execution_count": 82,
      "outputs": [
        {
          "output_type": "stream",
          "name": "stdout",
          "text": [
            "Meaning: ['Орган в полости рта в виде мышечного выроста у позвоночных животных и человека, способствующий пережевыванию и глотанию пищи, определяющий ее вкусовые свойства.', 'Металлический стержень в колоколе или колокольчике, который, ударяясь о стенку, производит звон.'] \n",
            "Contexts: ['Миссис Причард была тяжелым человеком, инвалидом, вокруг которой суетилась армия сиделок, но ни одна из них не задерживалась на долго, поскольку не могла найти общего языка с пациенткой.']\n"
          ]
        }
      ]
    },
    {
      "cell_type": "markdown",
      "source": [
        "Здесь мне сложно определить значение контекста, похоже на что-то относительно близкое к 'Система словесного выражения мыслей, обладающая определенным звуковым и грамматическим строем и служащая средством общения людей.'"
      ],
      "metadata": {
        "id": "fTCMDrMemlt0"
      },
      "id": "fTCMDrMemlt0"
    },
    {
      "cell_type": "markdown",
      "source": [
        "Машина"
      ],
      "metadata": {
        "id": "8kjbFfY-rlb0"
      },
      "id": "8kjbFfY-rlb0"
    },
    {
      "cell_type": "code",
      "source": [
        "meanings_m['машина'].keys(), meanings_ada['машина'].keys()"
      ],
      "metadata": {
        "colab": {
          "base_uri": "https://localhost:8080/"
        },
        "outputId": "c21050f8-5678-486f-9357-e3b8bb302ec2",
        "id": "PtOJU8MerVSY"
      },
      "execution_count": 91,
      "outputs": [
        {
          "output_type": "execute_result",
          "data": {
            "text/plain": [
              "(dict_keys([0]), dict_keys([0, 3]))"
            ]
          },
          "metadata": {},
          "execution_count": 91
        }
      ],
      "id": "PtOJU8MerVSY"
    },
    {
      "cell_type": "markdown",
      "source": [
        "Здесь я могу сравнить только то, что оказалось в нуле"
      ],
      "metadata": {
        "id": "2dTdmXsKr4am"
      },
      "id": "2dTdmXsKr4am"
    },
    {
      "cell_type": "code",
      "source": [
        "# значение 0\n",
        "print('Meaning:', meanings_m['машина'][0], '\\nContexts:', meanings_ada['машина'][0][:5])"
      ],
      "metadata": {
        "colab": {
          "base_uri": "https://localhost:8080/"
        },
        "outputId": "40462675-8702-4d42-e298-621be2922758",
        "id": "TKqnG-AjrVSb"
      },
      "execution_count": 92,
      "outputs": [
        {
          "output_type": "stream",
          "name": "stdout",
          "text": [
            "Meaning: ['Механизм или совокупность механизмов, совершающие какую-либо полезную работу путем преобразования одного вида энергии в другой.', 'Автомобиль, автомашина.', 'Общее название различных самодвижущихся механизмов, выполняющих транспортную, тягловую, уборочную работу.', 'Поезд (железнодорожный).'] \n",
            "Contexts: ['К концу 80-х подразделение строительных машин компании преобразовано в самостоятельную компанию, Shinko Kobelco Construction Machinery, Ltd.', 'После закрепления из-за того, что как правило, не весь тонер переносится на бумагу, в машине находится модуль очистки, который снимает оставшийся на фотобарабане тонер.', 'Достопримечательностями села можно считать пожарную машину на базе шасси ГАЗ-51 и недостроенный пивзавод у северной окраины села.', 'Модернизированная модификация также выпускалась два года, и, таким образом, 911 turbo в двух своих последовательных модификациях был машиной четырёх лет выпуска -- с 91-го по 94-й м. г.', '21 декабря 2012 года был найден мертвым в собственной машине Ли Дорман, басист группы и один из участников классического состава.']\n"
          ]
        }
      ],
      "id": "TKqnG-AjrVSb"
    },
    {
      "cell_type": "markdown",
      "source": [
        "На мой взгляд, здесь контексты отнесены в эту группу верно"
      ],
      "metadata": {
        "id": "eXfdaRNHrVSc"
      },
      "id": "eXfdaRNHrVSc"
    },
    {
      "cell_type": "code",
      "source": [
        "# значение 3\n",
        "print('Contexts:', meanings_ada['машина'][3][:5])"
      ],
      "metadata": {
        "colab": {
          "base_uri": "https://localhost:8080/"
        },
        "outputId": "71f3a876-8601-40fb-bdbb-01f6397ca9af",
        "id": "kWeYUaUGrVSj"
      },
      "execution_count": 94,
      "outputs": [
        {
          "output_type": "stream",
          "name": "stdout",
          "text": [
            "Contexts: ['Догнав вора на машине офицера Барбрэди, ребята выясняют, что ``Билл Косби&#39;&#39; -- киборг, присланный из будущего, чтобы предотвратить захват всего мира и уничтожение человечества суперкомпьютером, в который через несколько лет превратится органайзер Картмана.', 'Пользователь распределённой ОС, вообще говоря, не имеет сведений о том, на какой машине выполняется его работа.']\n"
          ]
        }
      ],
      "id": "kWeYUaUGrVSj"
    },
    {
      "cell_type": "markdown",
      "source": [
        "Первый контекст скорее относится к значению 0"
      ],
      "metadata": {
        "id": "9Zj4Q7qCuVvW"
      },
      "id": "9Zj4Q7qCuVvW"
    },
    {
      "cell_type": "markdown",
      "source": [
        "Звезда"
      ],
      "metadata": {
        "id": "8Ng2qymQrt9G"
      },
      "id": "8Ng2qymQrt9G"
    },
    {
      "cell_type": "code",
      "source": [
        "meanings_m['звезда'].keys(), meanings_ada['звезда'].keys()"
      ],
      "metadata": {
        "colab": {
          "base_uri": "https://localhost:8080/"
        },
        "outputId": "5d7c4ba7-eb68-471b-e416-5bf6924a6cb0",
        "id": "D03qLWaOracL"
      },
      "execution_count": 95,
      "outputs": [
        {
          "output_type": "execute_result",
          "data": {
            "text/plain": [
              "(dict_keys([0, 2]), dict_keys([3, 2, 0, 1]))"
            ]
          },
          "metadata": {},
          "execution_count": 95
        }
      ],
      "id": "D03qLWaOracL"
    },
    {
      "cell_type": "code",
      "source": [
        "# значение 0\n",
        "print('Meaning:', meanings_m['звезда'][0], '\\nContexts:', meanings_ada['звезда'][0][:5])"
      ],
      "metadata": {
        "colab": {
          "base_uri": "https://localhost:8080/"
        },
        "outputId": "3d51fd01-1455-4fdf-e028-57b48d282be1",
        "id": "CmQ3KJceracQ"
      },
      "execution_count": 96,
      "outputs": [
        {
          "output_type": "stream",
          "name": "stdout",
          "text": [
            "Meaning: ['Небесное тело, состоящее из раскаленных газов (плазмы), по своей природе сходное с Солнцем и представляющееся взору человека на ночном небе светящейся точкой.', 'Геометрическая фигура с остроконечными выступами, равномерно расположенными по окружности; фигура с лучами, исходящими от центра.'] \n",
            "Contexts: ['Звёзды также могут быть покрыты планетами и их спутниками.', 'Период обращения компонентов звезды составляет 7,45 суток.', 'Такие газы важны в структуре белых карликов и нейтронных звёзд.', 'Прародителем сверхновой была звезда сверхгигант, имевшая массу около 12 солнечных масс.', 'Альфард -- тройная звезда: вокруг Альфарда вращается двойная звезда на расстоянии 210 угловых секунд, видимая как звёздочка имеющая видимую величину + 9.5 m.']\n"
          ]
        }
      ],
      "id": "CmQ3KJceracQ"
    },
    {
      "cell_type": "markdown",
      "source": [
        "Здесь всё верно, хоть и немного странно, что фигуру отнесли в эту группу значений"
      ],
      "metadata": {
        "id": "ggi7obvlracS"
      },
      "id": "ggi7obvlracS"
    },
    {
      "cell_type": "code",
      "source": [
        "# значение 2\n",
        "print('Meaning:', meanings_m['звезда'][2], '\\nContexts:', meanings_ada['звезда'][2][:5])"
      ],
      "metadata": {
        "colab": {
          "base_uri": "https://localhost:8080/"
        },
        "outputId": "50537b30-90df-4b42-96d7-8f48e1f01090",
        "id": "x4rIYApBracT"
      },
      "execution_count": 97,
      "outputs": [
        {
          "output_type": "stream",
          "name": "stdout",
          "text": [
            "Meaning: ['О человеке, прославившемся в какой-либо сфере деятельности; о знаменитости.'] \n",
            "Contexts: ['Гудрич стал чемпионом НБА в составе ``Лейкерс&#39;&#39; в 1972 году, пять раз участвовал в матчах всех звёзд НБА.', 'Пожилую пару заменили звёзды ``серебряного экрана&#39;&#39; 1950-х: Фред Астер и Дженифер Джонс.', 'Ранее в России проходили матчи звёзд под эгидой Суперлиги.', 'Многие социалистические страны сооружали красные звёзды над своими общественными учреждениями как символ государственной политики и идеологии.', 'Актриса, которая может комбинировать ранимость и силу, всегда становится звездой&#39;&#39;.']\n"
          ]
        }
      ],
      "id": "x4rIYApBracT"
    },
    {
      "cell_type": "markdown",
      "source": [
        "Контекст 'Многие социалистические страны сооружали красные звёзды над своими общественными учреждениями как символ государственной политики и идеологии.' скорее относится к значению 0 (звезда как фигура)"
      ],
      "metadata": {
        "id": "Bak1UfinracV"
      },
      "id": "Bak1UfinracV"
    },
    {
      "cell_type": "markdown",
      "source": [
        "Лист"
      ],
      "metadata": {
        "id": "8owBamqsrv6L"
      },
      "id": "8owBamqsrv6L"
    },
    {
      "cell_type": "code",
      "source": [
        "meanings_m['лист'].keys(), meanings_ada['лист'].keys()"
      ],
      "metadata": {
        "colab": {
          "base_uri": "https://localhost:8080/"
        },
        "outputId": "94ed1087-a711-461a-c760-e201d5c87596",
        "id": "9NgP-ErxrcOi"
      },
      "execution_count": 98,
      "outputs": [
        {
          "output_type": "execute_result",
          "data": {
            "text/plain": [
              "(dict_keys([3, 2, 5]), dict_keys([2, 3, 1]))"
            ]
          },
          "metadata": {},
          "execution_count": 98
        }
      ],
      "id": "9NgP-ErxrcOi"
    },
    {
      "cell_type": "code",
      "source": [
        "# значение 2\n",
        "print('Meaning:', meanings_m['лист'][2], '\\nContexts:', meanings_ada['лист'][2][:5])"
      ],
      "metadata": {
        "colab": {
          "base_uri": "https://localhost:8080/"
        },
        "outputId": "a74d277c-a4c3-46c4-b37c-61cad7157da2",
        "id": "PyVWNpS-rcOk"
      },
      "execution_count": 99,
      "outputs": [
        {
          "output_type": "stream",
          "name": "stdout",
          "text": [
            "Meaning: ['Единица измерения, применяемая в издательском и полиграфическом деле, разного характера в зависимости от того, что измеряется.'] \n",
            "Contexts: ['Для того чтобы решить проблему с посещением 9 арабских государств, иммиграционная служба Израиля по требованию пассажира может поставить визу на отдельный лист.', 'Картотека (``лист папируса&#39;&#39; и ``место хранения&#39;&#39;) -- упорядоченное собрание данных, как правило на карточках малого формата.', 'В первой половине XIX века владельцем рукописи был другой мексиканский эрудит, Фаустино Галисиа Чимальпопока, у которого в 1849 году тетрадь, по всей видимости, приобрел ещё один известный любитель и знаток доколумбовых древностей, Шарль-Этьен Брассёр де Бурбур (на титульном листе сборника он записал название ``Кодекс Чимальпопоки&#39;&#39; с объяснением, в честь кого оно дано).']\n"
          ]
        }
      ],
      "id": "PyVWNpS-rcOk"
    },
    {
      "cell_type": "markdown",
      "source": [
        "Я не уверена, данные контексты подходят под это значение, кажется, всё же не очень хорошо"
      ],
      "metadata": {
        "id": "zvdN8ayQrcOl"
      },
      "id": "zvdN8ayQrcOl"
    },
    {
      "cell_type": "code",
      "source": [
        "# значение 3\n",
        "print('Meaning:', meanings_m['лист'][3], '\\nContexts:', meanings_ada['лист'][3][:5])"
      ],
      "metadata": {
        "colab": {
          "base_uri": "https://localhost:8080/"
        },
        "outputId": "61f506cd-69b0-4e9a-d3bc-c33d0c4de824",
        "id": "67vGKfBfrcOr"
      },
      "execution_count": 100,
      "outputs": [
        {
          "output_type": "stream",
          "name": "stdout",
          "text": [
            "Meaning: ['Тонкая зеленая пластинка различной формы на черенке (орган воздушного питания и газообмена у растения).', 'Тонкий, плотный кусок или пласт какого-либо материала.'] \n",
            "Contexts: ['Научное и русское название происходят от красноватой окраски эилок листьев этого клёна, а японское -- от рисунка коры.', 'Листья очерёдные, черешковые, цельные, трёх- или пятилопастные.', 'В частности, он варьирует по форме сечения пластинки листа от плоской и килеватой до желобчатой, по ширине листа от 2 (3) до 5 (8 -- 10) мм и по степени отклонённости зрелых мешочков от оси колоска.', 'В частности, он варьирует по форме сечения пластинки листа от плоской и килеватой до желобчатой, по ширине листа от 2 (3) до 5 (8 -- 10) мм и по степени отклонённости зрелых мешочков от оси колоска.']\n"
          ]
        }
      ],
      "id": "67vGKfBfrcOr"
    },
    {
      "cell_type": "markdown",
      "source": [
        "Здесь, кажется, все значения соответствуют значению"
      ],
      "metadata": {
        "id": "AjKVODDA0pvd"
      },
      "id": "AjKVODDA0pvd"
    },
    {
      "cell_type": "markdown",
      "source": [
        "Земля"
      ],
      "metadata": {
        "id": "SIJ_2Lverxdt"
      },
      "id": "SIJ_2Lverxdt"
    },
    {
      "cell_type": "code",
      "source": [
        "meanings_m['земля'].keys(), meanings_ada['земля'].keys()"
      ],
      "metadata": {
        "colab": {
          "base_uri": "https://localhost:8080/"
        },
        "outputId": "e76e0083-e238-46e5-fa06-6527adea9cc3",
        "id": "UJkMPQ1wrdHh"
      },
      "execution_count": 101,
      "outputs": [
        {
          "output_type": "execute_result",
          "data": {
            "text/plain": [
              "(dict_keys([2, 3, 0]), dict_keys([3, 0, 2, 1, 4]))"
            ]
          },
          "metadata": {},
          "execution_count": 101
        }
      ],
      "id": "UJkMPQ1wrdHh"
    },
    {
      "cell_type": "code",
      "source": [
        "len(meanings_ada['земля'][3])"
      ],
      "metadata": {
        "colab": {
          "base_uri": "https://localhost:8080/"
        },
        "id": "P4ZNwIjW7ceZ",
        "outputId": "d524aa8c-c27d-4f50-ec7e-c9e5b80d36a9"
      },
      "id": "P4ZNwIjW7ceZ",
      "execution_count": 121,
      "outputs": [
        {
          "output_type": "execute_result",
          "data": {
            "text/plain": [
              "26"
            ]
          },
          "metadata": {},
          "execution_count": 121
        }
      ]
    },
    {
      "cell_type": "code",
      "source": [
        "# значение 0\n",
        "print('Meaning:', meanings_m['земля'][0], '\\nContexts:', meanings_ada['земля'][0][:5])"
      ],
      "metadata": {
        "colab": {
          "base_uri": "https://localhost:8080/"
        },
        "outputId": "2042414f-e3ee-4302-b28b-428c5395854d",
        "id": "SDe1pKyErdHi"
      },
      "execution_count": 102,
      "outputs": [
        {
          "output_type": "stream",
          "name": "stdout",
          "text": [
            "Meaning: ['Поле, фон (ткани, обоев), по которому сделан рисунок.'] \n",
            "Contexts: ['``... мы видели случаи, когда случайно упавшие с носилок тела погибших палестинцев на носилках, вдруг самостоятельно подымались (с земли).', 'Один раз была обнаружена углублённая в землю и под большие камни глинобитная печь.', 'Когда Доктор справился с врагом, радиотелескоп начал опускаться и он упал на землю.', 'Туристы очаровываются неповторимой красотой родной дальневосточной земли с тисовой рощей, лотосом, можжевельником, которые произрастают на озёрах Ореховое, Казённое.', 'На постройку гнезда, реньше шла трава, сейчас же на стройку гнезда стала использоваться земля.']\n"
          ]
        }
      ],
      "id": "SDe1pKyErdHi"
    },
    {
      "cell_type": "markdown",
      "source": [
        "Контексты не соответствуют значению"
      ],
      "metadata": {
        "id": "wTEatqOirdHj"
      },
      "id": "wTEatqOirdHj"
    },
    {
      "cell_type": "code",
      "source": [
        "# значение 2\n",
        "print('Meaning:', meanings_m['земля'][2], '\\nContexts:', meanings_ada['земля'][2][:5])"
      ],
      "metadata": {
        "colab": {
          "base_uri": "https://localhost:8080/"
        },
        "outputId": "9c2264ca-8c31-4c51-e8ba-0af4314bb413",
        "id": "75gFV05_rdHj"
      },
      "execution_count": 103,
      "outputs": [
        {
          "output_type": "stream",
          "name": "stdout",
          "text": [
            "Meaning: ['Третья от Солнца, обитаемая нами планета.', 'Суша, земная твердь (в отличие от водного или воздушного пространства).', 'Верхний, поверхностный слой коры нашей планеты, а также ее более глубокие слои; почва, грунт.', 'Рыхлое темно-бурое вещество, входящее в состав коры нашей планеты.'] \n",
            "Contexts: ['Как правило, объектом гравиметрии является Земля, однако спутники, направляемые к Марсу, Венере, Юпитеру и другим планетам также могут использоваться для гравиметрических наблюдений.', 'Состав атмосферы Земли отличается от прочих планет Солнечной системы, потому что различные процессы, сопровождающие находящуюся на планете жизнь, создали условия для появления молекулярного кислорода, столь важного для всего живого, что населяет Землю.', 'Состав атмосферы Земли отличается от прочих планет Солнечной системы, потому что различные процессы, сопровождающие находящуюся на планете жизнь, создали условия для появления молекулярного кислорода, столь важного для всего живого, что населяет Землю.', 'Из скудной информации про него можно узнать, что в честь него назван университет на Земле, а также названа в честь него единица искривления пространства 1 Кокрейн.', 'Однако он едва не становится жертвой предателя Оливера Монтбелла, которому удаётся с помощью погружённого в транс Бранитара составить звёздную карту курса к Земле.']\n"
          ]
        }
      ],
      "id": "75gFV05_rdHj"
    },
    {
      "cell_type": "code",
      "source": [
        "# значение 3\n",
        "print('Meaning:', meanings_m['земля'][3], '\\nContexts:', meanings_ada['земля'][3][:5])"
      ],
      "metadata": {
        "colab": {
          "base_uri": "https://localhost:8080/"
        },
        "outputId": "a88b240e-f07d-4904-e8b7-e9ecc76e3e6a",
        "id": "9jhEClJrrdHl"
      },
      "execution_count": 104,
      "outputs": [
        {
          "output_type": "stream",
          "name": "stdout",
          "text": [
            "Meaning: ['Территория, находящаяся в чьем-либо владении, пользовании; обрабатываемая, используемая в сельскохозяйственных целях почва.', 'Страна, государство.'] \n",
            "Contexts: ['Рорбах-Штайнберг () -- коммуна () в Австрии, в федеральной земле Штирия.', 'Тверь являлась столицей русских земель; с 1488 года в составе Московского государства (впоследствии -- России).', 'Старший из оставшихся двух братьев, Фридрих II, взял под свой контроль курфюршество Саксония и земли вокруг Виттенберга, а оставшимися управлял совместно с Вильгельмом.', 'У казахов она называется ``кумисал&#39;&#39;, у киргизов ``тыйын-энмей&#39;&#39; и заключается, в основном, в поднимании на полном скаку с земли мелких предметов (обычно монет).', 'Ресурсы Земли должны быть учтены и распределяться для удовлетворения потребностей людей с максимальной эффективностью через глобальное применение существующих революционных технологий в производстве и распределении благ.']\n"
          ]
        }
      ],
      "id": "9jhEClJrrdHl"
    },
    {
      "cell_type": "markdown",
      "source": [
        "Контексты 'У казахов она называется ``кумисал&#39;&#39;, у киргизов ``тыйын-энмей&#39;&#39; и заключается, в основном, в поднимании на полном скаку с земли мелких предметов (обычно монет).' и 'Ресурсы Земли должны быть учтены и распределяться для удовлетворения потребностей людей с максимальной эффективностью через глобальное применение существующих революционных технологий в производстве и распределении благ.' не соответсвуют данному значению, они относятся к 2"
      ],
      "metadata": {
        "id": "ZZFaWFa_4St9"
      },
      "id": "ZZFaWFa_4St9"
    },
    {
      "cell_type": "markdown",
      "source": [
        "6. Accuracy"
      ],
      "metadata": {
        "id": "uF9uCJKn4pJe"
      },
      "id": "uF9uCJKn4pJe"
    },
    {
      "cell_type": "code",
      "source": [
        "from sklearn.metrics import accuracy_score"
      ],
      "metadata": {
        "id": "_5R2crg74oWg"
      },
      "id": "_5R2crg74oWg",
      "execution_count": 105,
      "outputs": []
    },
    {
      "cell_type": "markdown",
      "source": [
        "Язык"
      ],
      "metadata": {
        "id": "5_M-JhAl5C8E"
      },
      "id": "5_M-JhAl5C8E"
    },
    {
      "cell_type": "code",
      "source": [
        "y_true = [0, 0, 0, 0, 0, 0, 0, 0, 0, 0, 0]\n",
        "y_predict = [0, 0, 0, 0, 0, 1, 1, 1, 1, 1, 2]\n",
        "accuracy_score(y_true, y_predict)"
      ],
      "metadata": {
        "colab": {
          "base_uri": "https://localhost:8080/"
        },
        "id": "S0WHqJ5E5EWl",
        "outputId": "4ae29a8d-4127-434a-9d54-b3e8ca03cad6"
      },
      "id": "S0WHqJ5E5EWl",
      "execution_count": 110,
      "outputs": [
        {
          "output_type": "execute_result",
          "data": {
            "text/plain": [
              "0.45454545454545453"
            ]
          },
          "metadata": {},
          "execution_count": 110
        }
      ]
    },
    {
      "cell_type": "markdown",
      "source": [
        "Машина"
      ],
      "metadata": {
        "id": "QpGuknhc5C8L"
      },
      "id": "QpGuknhc5C8L"
    },
    {
      "cell_type": "code",
      "source": [
        "y_true = [0, 0, 0, 0, 0]\n",
        "y_predict = [0, 0, 0, 0, 0]\n",
        "accuracy_score(y_true, y_predict)"
      ],
      "metadata": {
        "colab": {
          "base_uri": "https://localhost:8080/"
        },
        "id": "2uNF494K5PYR",
        "outputId": "a8d6bb13-bb1a-4caa-db8d-624865e7bb70"
      },
      "id": "2uNF494K5PYR",
      "execution_count": 112,
      "outputs": [
        {
          "output_type": "execute_result",
          "data": {
            "text/plain": [
              "1.0"
            ]
          },
          "metadata": {},
          "execution_count": 112
        }
      ]
    },
    {
      "cell_type": "markdown",
      "source": [
        "Звезда"
      ],
      "metadata": {
        "id": "YrIAUtKx5C8M"
      },
      "id": "YrIAUtKx5C8M"
    },
    {
      "cell_type": "code",
      "source": [
        "y_true = [0, 0, 0, 0, 0, 2, 2, 2, 0, 2]\n",
        "y_predict = [0, 0, 0, 0, 0, 2, 2, 2, 2, 2]\n",
        "accuracy_score(y_true, y_predict)"
      ],
      "metadata": {
        "colab": {
          "base_uri": "https://localhost:8080/"
        },
        "id": "2Kf8HZzf5RjU",
        "outputId": "e8d48a3a-2bc5-40be-db11-8be9c0b56dd7"
      },
      "id": "2Kf8HZzf5RjU",
      "execution_count": 115,
      "outputs": [
        {
          "output_type": "execute_result",
          "data": {
            "text/plain": [
              "0.9"
            ]
          },
          "metadata": {},
          "execution_count": 115
        }
      ]
    },
    {
      "cell_type": "markdown",
      "source": [
        "Лист"
      ],
      "metadata": {
        "id": "R6jqwwFl5C8N"
      },
      "id": "R6jqwwFl5C8N"
    },
    {
      "cell_type": "code",
      "source": [
        "y_true = [2, 3, 2, 3, 3, 3, 3]\n",
        "y_predict = [2, 2, 2, 3, 3, 3, 3]\n",
        "accuracy_score(y_true, y_predict)"
      ],
      "metadata": {
        "colab": {
          "base_uri": "https://localhost:8080/"
        },
        "id": "y856fdmX5Stk",
        "outputId": "6ab558be-06d1-4591-b478-83798f068d2d"
      },
      "id": "y856fdmX5Stk",
      "execution_count": 118,
      "outputs": [
        {
          "output_type": "execute_result",
          "data": {
            "text/plain": [
              "0.8571428571428571"
            ]
          },
          "metadata": {},
          "execution_count": 118
        }
      ]
    },
    {
      "cell_type": "markdown",
      "source": [
        "Земля"
      ],
      "metadata": {
        "id": "5_FD_2pE5C8O"
      },
      "id": "5_FD_2pE5C8O"
    },
    {
      "cell_type": "code",
      "source": [
        "y_true = [2, 2, 2, 3, 2, 2, 2, 2, 2, 2, 3, 3, 3, 2, 2]\n",
        "y_predict = [0, 0, 0, 0, 0, 2, 2, 2, 2, 2, 3, 3, 3, 3, 3]\n",
        "accuracy_score(y_true, y_predict)"
      ],
      "metadata": {
        "colab": {
          "base_uri": "https://localhost:8080/"
        },
        "id": "1a4I3R7b5TWh",
        "outputId": "62c562ea-ea85-462b-868d-79ce5c5e4b74"
      },
      "id": "1a4I3R7b5TWh",
      "execution_count": 122,
      "outputs": [
        {
          "output_type": "execute_result",
          "data": {
            "text/plain": [
              "0.5333333333333333"
            ]
          },
          "metadata": {},
          "execution_count": 122
        }
      ]
    },
    {
      "cell_type": "markdown",
      "source": [
        "К сожалению, сравнить с эмбеддингами я не могу, так как у меня не получилось сделать кластеризацию для значений"
      ],
      "metadata": {
        "id": "BklKrNQo8PKg"
      },
      "id": "BklKrNQo8PKg"
    },
    {
      "cell_type": "markdown",
      "source": [
        "Но по имеющимся данным можно сказать, что лучше всего различаются значения у машины и звезды, у листа чуть хуже, в то время как земля и язык плохо поддаются автоматическому методу разрешения многозначности"
      ],
      "metadata": {
        "id": "4p0rYQoj8aFs"
      },
      "id": "4p0rYQoj8aFs"
    }
  ],
  "metadata": {
    "kernelspec": {
      "display_name": "Python 3",
      "language": "python",
      "name": "python3"
    },
    "language_info": {
      "codemirror_mode": {
        "name": "ipython",
        "version": 3
      },
      "file_extension": ".py",
      "mimetype": "text/x-python",
      "name": "python",
      "nbconvert_exporter": "python",
      "pygments_lexer": "ipython3",
      "version": "3.8.8"
    },
    "colab": {
      "provenance": []
    }
  },
  "nbformat": 4,
  "nbformat_minor": 5
}